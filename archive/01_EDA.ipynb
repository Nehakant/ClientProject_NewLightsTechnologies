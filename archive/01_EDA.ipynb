{
 "cells": [
  {
   "cell_type": "code",
   "execution_count": 2,
   "metadata": {},
   "outputs": [],
   "source": [
    "import pandas as pd"
   ]
  },
  {
   "cell_type": "code",
   "execution_count": 4,
   "metadata": {},
   "outputs": [],
   "source": [
    "df = pd.read_csv('DisasterDeclarationsSummaries.csv')"
   ]
  },
  {
   "cell_type": "code",
   "execution_count": 10,
   "metadata": {},
   "outputs": [],
   "source": [
    "features = list(df.columns)"
   ]
  },
  {
   "cell_type": "code",
   "execution_count": 12,
   "metadata": {},
   "outputs": [
    {
     "data": {
      "text/plain": [
       "['disasterNumber',\n",
       " 'ihProgramDeclared',\n",
       " 'iaProgramDeclared',\n",
       " 'paProgramDeclared',\n",
       " 'hmProgramDeclared',\n",
       " 'state',\n",
       " 'declarationDate',\n",
       " 'fyDeclared',\n",
       " 'disasterType',\n",
       " 'incidentType',\n",
       " 'title',\n",
       " 'incidentBeginDate',\n",
       " 'incidentEndDate',\n",
       " 'disasterCloseOutDate',\n",
       " 'declaredCountyArea',\n",
       " 'placeCode',\n",
       " 'hash',\n",
       " 'lastRefresh']"
      ]
     },
     "execution_count": 12,
     "metadata": {},
     "output_type": "execute_result"
    }
   ],
   "source": [
    "features"
   ]
  },
  {
   "cell_type": "code",
   "execution_count": 14,
   "metadata": {},
   "outputs": [],
   "source": [
    "df = pd.read_excel('https://query.data.world/s/djmtswq4upcfagdslq72wonalylp6y')"
   ]
  },
  {
   "cell_type": "code",
   "execution_count": 15,
   "metadata": {},
   "outputs": [
    {
     "data": {
      "text/html": [
       "<div>\n",
       "<style scoped>\n",
       "    .dataframe tbody tr th:only-of-type {\n",
       "        vertical-align: middle;\n",
       "    }\n",
       "\n",
       "    .dataframe tbody tr th {\n",
       "        vertical-align: top;\n",
       "    }\n",
       "\n",
       "    .dataframe thead th {\n",
       "        text-align: right;\n",
       "    }\n",
       "</style>\n",
       "<table border=\"1\" class=\"dataframe\">\n",
       "  <thead>\n",
       "    <tr style=\"text-align: right;\">\n",
       "      <th></th>\n",
       "      <th>Key</th>\n",
       "      <th>AFF</th>\n",
       "      <th>DES</th>\n",
       "      <th>MAJ</th>\n",
       "      <th>MIN</th>\n",
       "      <th>Total</th>\n",
       "    </tr>\n",
       "  </thead>\n",
       "  <tbody>\n",
       "    <tr>\n",
       "      <td>0</td>\n",
       "      <td>48157674700</td>\n",
       "      <td>323.0</td>\n",
       "      <td>252.0</td>\n",
       "      <td>627.0</td>\n",
       "      <td>1518.0</td>\n",
       "      <td>2720.0</td>\n",
       "    </tr>\n",
       "    <tr>\n",
       "      <td>1</td>\n",
       "      <td>48361022300</td>\n",
       "      <td>1167.0</td>\n",
       "      <td>9.0</td>\n",
       "      <td>201.0</td>\n",
       "      <td>1122.0</td>\n",
       "      <td>2499.0</td>\n",
       "    </tr>\n",
       "    <tr>\n",
       "      <td>2</td>\n",
       "      <td>48339694301</td>\n",
       "      <td>386.0</td>\n",
       "      <td>543.0</td>\n",
       "      <td>779.0</td>\n",
       "      <td>766.0</td>\n",
       "      <td>2474.0</td>\n",
       "    </tr>\n",
       "    <tr>\n",
       "      <td>3</td>\n",
       "      <td>48355006200</td>\n",
       "      <td>1625.0</td>\n",
       "      <td>0.0</td>\n",
       "      <td>72.0</td>\n",
       "      <td>656.0</td>\n",
       "      <td>2353.0</td>\n",
       "    </tr>\n",
       "    <tr>\n",
       "      <td>4</td>\n",
       "      <td>48361021900</td>\n",
       "      <td>1220.0</td>\n",
       "      <td>36.0</td>\n",
       "      <td>112.0</td>\n",
       "      <td>630.0</td>\n",
       "      <td>1998.0</td>\n",
       "    </tr>\n",
       "  </tbody>\n",
       "</table>\n",
       "</div>"
      ],
      "text/plain": [
       "           Key     AFF    DES    MAJ     MIN   Total\n",
       "0  48157674700   323.0  252.0  627.0  1518.0  2720.0\n",
       "1  48361022300  1167.0    9.0  201.0  1122.0  2499.0\n",
       "2  48339694301   386.0  543.0  779.0   766.0  2474.0\n",
       "3  48355006200  1625.0    0.0   72.0   656.0  2353.0\n",
       "4  48361021900  1220.0   36.0  112.0   630.0  1998.0"
      ]
     },
     "execution_count": 15,
     "metadata": {},
     "output_type": "execute_result"
    }
   ],
   "source": [
    "df.head()"
   ]
  }
 ],
 "metadata": {
  "kernelspec": {
   "display_name": "Python 3",
   "language": "python",
   "name": "python3"
  },
  "language_info": {
   "codemirror_mode": {
    "name": "ipython",
    "version": 3
   },
   "file_extension": ".py",
   "mimetype": "text/x-python",
   "name": "python",
   "nbconvert_exporter": "python",
   "pygments_lexer": "ipython3",
   "version": "3.7.3"
  }
 },
 "nbformat": 4,
 "nbformat_minor": 2
}
