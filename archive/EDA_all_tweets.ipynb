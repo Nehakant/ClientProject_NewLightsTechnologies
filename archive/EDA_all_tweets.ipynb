{
 "cells": [
  {
   "cell_type": "code",
   "execution_count": 1,
   "metadata": {},
   "outputs": [],
   "source": [
    "# Import libraries\n",
    "import pandas as pd\n",
    "import numpy as np\n",
    "import nltk"
   ]
  },
  {
   "cell_type": "code",
   "execution_count": 2,
   "metadata": {},
   "outputs": [],
   "source": [
    "# Reading in the compiled csv of all different tweets\n",
    "df = pd.read_csv('./datasets/compiled/all_disaster_tweets.csv')"
   ]
  },
  {
   "cell_type": "code",
   "execution_count": 3,
   "metadata": {},
   "outputs": [],
   "source": [
    "# Dropping NaNs\n",
    "df.dropna(inplace=True)"
   ]
  },
  {
   "cell_type": "code",
   "execution_count": 4,
   "metadata": {},
   "outputs": [],
   "source": [
    "# Turn all the tweets into lowercase before vectorization\n",
    "df['tweet text'] = df['tweet text'].apply(lambda x: x.lower())"
   ]
  },
  {
   "cell_type": "code",
   "execution_count": 5,
   "metadata": {},
   "outputs": [],
   "source": [
    "# Creating a column identifying floods and no floods to create a one-class classifier\n",
    "df['flood'] = df['disaster type'].apply(lambda x: 1 if x==4 else 0)"
   ]
  },
  {
   "cell_type": "code",
   "execution_count": 6,
   "metadata": {},
   "outputs": [],
   "source": [
    "# Creating the X and y lists before splitting\n",
    "X = df['tweet text']\n",
    "y = df['flood']"
   ]
  },
  {
   "cell_type": "code",
   "execution_count": 7,
   "metadata": {},
   "outputs": [],
   "source": [
    "# Machine learning relevant libraries\n",
    "from sklearn.multiclass import OneVsRestClassifier\n",
    "from sklearn.model_selection import StratifiedShuffleSplit,GroupShuffleSplit\n",
    "from sklearn.linear_model import LogisticRegression\n",
    "from sklearn.cluster import KMeans\n",
    "from sklearn.pipeline import Pipeline\n",
    "from sklearn.feature_extraction.text import TfidfVectorizer, CountVectorizer\n",
    "from nltk.stem import WordNetLemmatizer\n",
    "from sklearn.model_selection import train_test_split, GridSearchCV\n",
    "from sklearn.svm import SVC\n",
    "from sklearn.preprocessing import StandardScaler, OneHotEncoder\n",
    "from sklearn.decomposition import KernelPCA"
   ]
  },
  {
   "cell_type": "code",
   "execution_count": 8,
   "metadata": {},
   "outputs": [],
   "source": [
    "# Train test split for single classifier\n",
    "X_train, X_test, y_train, y_test = train_test_split(X, y, stratify=y, random_state = 42)"
   ]
  },
  {
   "cell_type": "code",
   "execution_count": 9,
   "metadata": {},
   "outputs": [],
   "source": [
    "# Pipeline for single classifier\n",
    "pipe1 = Pipeline([\n",
    "    ('cvec',CountVectorizer()),\n",
    "    ('lr',LogisticRegression(penalty = 'l2', solver='liblinear', random_state = 42))\n",
    "])\n",
    "\n",
    "pipe1_params = {\n",
    "    'cvec__max_features':[2000,4000],\n",
    "    'cvec__lowercase':[True],\n",
    "    'cvec__stop_words':['english'],\n",
    "    'cvec__ngram_range':[(1, 1), (1, 2)],\n",
    "}"
   ]
  },
  {
   "cell_type": "code",
   "execution_count": 10,
   "metadata": {},
   "outputs": [],
   "source": [
    "# Grid searching for single classifier\n",
    "gs1 = GridSearchCV(pipe1,\n",
    "                  pipe1_params,\n",
    "                  cv=3,\n",
    "                  return_train_score=True) "
   ]
  },
  {
   "cell_type": "code",
   "execution_count": 11,
   "metadata": {},
   "outputs": [],
   "source": [
    "gs1.fit(X_train, y_train);"
   ]
  },
  {
   "cell_type": "code",
   "execution_count": 12,
   "metadata": {},
   "outputs": [
    {
     "data": {
      "text/plain": [
       "{'cvec__lowercase': True,\n",
       " 'cvec__max_features': 4000,\n",
       " 'cvec__ngram_range': (1, 2),\n",
       " 'cvec__stop_words': 'english'}"
      ]
     },
     "execution_count": 12,
     "metadata": {},
     "output_type": "execute_result"
    }
   ],
   "source": [
    "gs1.best_params_"
   ]
  },
  {
   "cell_type": "code",
   "execution_count": 13,
   "metadata": {},
   "outputs": [
    {
     "data": {
      "text/plain": [
       "0.9896415103346222"
      ]
     },
     "execution_count": 13,
     "metadata": {},
     "output_type": "execute_result"
    }
   ],
   "source": [
    "gs1.score(X_train, y_train)"
   ]
  },
  {
   "cell_type": "code",
   "execution_count": 14,
   "metadata": {},
   "outputs": [
    {
     "data": {
      "text/plain": [
       "0.9782359679266895"
      ]
     },
     "execution_count": 14,
     "metadata": {},
     "output_type": "execute_result"
    }
   ],
   "source": [
    "gs1.score(X_test, y_test)"
   ]
  },
  {
   "cell_type": "markdown",
   "metadata": {},
   "source": [
    "### Creating a multiclass classifier to categorize the tweets based on 5 different disaster types"
   ]
  },
  {
   "cell_type": "code",
   "execution_count": 15,
   "metadata": {},
   "outputs": [],
   "source": [
    "# Creating the y vairable as a vector of different disaster types\n",
    "y_multi = df['disaster type']"
   ]
  },
  {
   "cell_type": "code",
   "execution_count": 16,
   "metadata": {},
   "outputs": [],
   "source": [
    "X_train, X_test, y_train, y_test = train_test_split(X, y_multi, random_state = 42, stratify = y_multi)"
   ]
  },
  {
   "cell_type": "code",
   "execution_count": 17,
   "metadata": {},
   "outputs": [],
   "source": [
    "pipe2 = Pipeline([\n",
    "    ('tvec',CountVectorizer()),\n",
    "    ('multi',OneVsRestClassifier(LogisticRegression(C = 0.01, penalty = 'l2', solver='liblinear', random_state = 42)))\n",
    "])\n",
    "\n",
    "pipe2_params = {\n",
    "    'tvec__max_features':[4000],\n",
    "    'tvec__lowercase':[True],\n",
    "    'tvec__stop_words':['english'],\n",
    "    'tvec__ngram_range':[(1, 2)]\n",
    "}"
   ]
  },
  {
   "cell_type": "code",
   "execution_count": 18,
   "metadata": {},
   "outputs": [],
   "source": [
    "gs2 = GridSearchCV(pipe2,\n",
    "                  pipe2_params,\n",
    "                  cv=3,\n",
    "                  return_train_score=True) "
   ]
  },
  {
   "cell_type": "code",
   "execution_count": 19,
   "metadata": {},
   "outputs": [],
   "source": [
    "gs2.fit(X_train, y_train);"
   ]
  },
  {
   "cell_type": "code",
   "execution_count": 20,
   "metadata": {},
   "outputs": [
    {
     "data": {
      "text/plain": [
       "{'tvec__lowercase': True,\n",
       " 'tvec__max_features': 4000,\n",
       " 'tvec__ngram_range': (1, 2),\n",
       " 'tvec__stop_words': 'english'}"
      ]
     },
     "execution_count": 20,
     "metadata": {},
     "output_type": "execute_result"
    }
   ],
   "source": [
    "gs2.best_params_"
   ]
  },
  {
   "cell_type": "code",
   "execution_count": 21,
   "metadata": {},
   "outputs": [
    {
     "data": {
      "text/plain": [
       "0.8830493102296052"
      ]
     },
     "execution_count": 21,
     "metadata": {},
     "output_type": "execute_result"
    }
   ],
   "source": [
    "gs2.score(X_train, y_train)"
   ]
  },
  {
   "cell_type": "code",
   "execution_count": 22,
   "metadata": {},
   "outputs": [
    {
     "data": {
      "text/plain": [
       "0.877290950744559"
      ]
     },
     "execution_count": 22,
     "metadata": {},
     "output_type": "execute_result"
    }
   ],
   "source": [
    "gs2.score(X_test, y_test)"
   ]
  },
  {
   "cell_type": "code",
   "execution_count": 23,
   "metadata": {},
   "outputs": [],
   "source": [
    "preds = gs2.predict(X_test)"
   ]
  },
  {
   "cell_type": "code",
   "execution_count": 24,
   "metadata": {},
   "outputs": [],
   "source": [
    "df_test = df.loc[list(X_test.index),:]"
   ]
  },
  {
   "cell_type": "code",
   "execution_count": 25,
   "metadata": {},
   "outputs": [],
   "source": [
    "# Creating a dataframe with predicted disaster type from our multiclass classifier\n",
    "df_test['preds disaster type'] = preds"
   ]
  },
  {
   "cell_type": "code",
   "execution_count": 26,
   "metadata": {},
   "outputs": [
    {
     "data": {
      "text/html": [
       "<div>\n",
       "<style scoped>\n",
       "    .dataframe tbody tr th:only-of-type {\n",
       "        vertical-align: middle;\n",
       "    }\n",
       "\n",
       "    .dataframe tbody tr th {\n",
       "        vertical-align: top;\n",
       "    }\n",
       "\n",
       "    .dataframe thead th {\n",
       "        text-align: right;\n",
       "    }\n",
       "</style>\n",
       "<table border=\"1\" class=\"dataframe\">\n",
       "  <thead>\n",
       "    <tr style=\"text-align: right;\">\n",
       "      <th></th>\n",
       "      <th>tweet text</th>\n",
       "      <th>disaster type</th>\n",
       "      <th>preds disaster type</th>\n",
       "    </tr>\n",
       "  </thead>\n",
       "  <tbody>\n",
       "    <tr>\n",
       "      <td>17640</td>\n",
       "      <td>rt @examinedisaster: @nasa releases stunning b...</td>\n",
       "      <td>0.0</td>\n",
       "      <td>0.0</td>\n",
       "    </tr>\n",
       "    <tr>\n",
       "      <td>3005</td>\n",
       "      <td>dramatic details emerge of lax rampage targeti...</td>\n",
       "      <td>3.0</td>\n",
       "      <td>3.0</td>\n",
       "    </tr>\n",
       "    <tr>\n",
       "      <td>16996</td>\n",
       "      <td>rt @estebangerbasi: un terrorista italiano es ...</td>\n",
       "      <td>3.0</td>\n",
       "      <td>3.0</td>\n",
       "    </tr>\n",
       "    <tr>\n",
       "      <td>1687</td>\n",
       "      <td>photo: kirsty nelis, reported locally as polic...</td>\n",
       "      <td>3.0</td>\n",
       "      <td>3.0</td>\n",
       "    </tr>\n",
       "    <tr>\n",
       "      <td>20253</td>\n",
       "      <td>deadly building collapse in bangladesh  http:/...</td>\n",
       "      <td>3.0</td>\n",
       "      <td>3.0</td>\n",
       "    </tr>\n",
       "    <tr>\n",
       "      <td>...</td>\n",
       "      <td>...</td>\n",
       "      <td>...</td>\n",
       "      <td>...</td>\n",
       "    </tr>\n",
       "    <tr>\n",
       "      <td>10676</td>\n",
       "      <td>colorado digs out after 'biblical' flooding: c...</td>\n",
       "      <td>4.0</td>\n",
       "      <td>4.0</td>\n",
       "    </tr>\n",
       "    <tr>\n",
       "      <td>1811</td>\n",
       "      <td>nasty katie hopkins apologises after making cr...</td>\n",
       "      <td>3.0</td>\n",
       "      <td>3.0</td>\n",
       "    </tr>\n",
       "    <tr>\n",
       "      <td>2006</td>\n",
       "      <td>rt @cloydrivers: bad day? 6 troops in afghanis...</td>\n",
       "      <td>99.0</td>\n",
       "      <td>3.0</td>\n",
       "    </tr>\n",
       "    <tr>\n",
       "      <td>19090</td>\n",
       "      <td>rt @fasnouvelles: vous avez des livres à donne...</td>\n",
       "      <td>3.0</td>\n",
       "      <td>3.0</td>\n",
       "    </tr>\n",
       "    <tr>\n",
       "      <td>26063</td>\n",
       "      <td>rt @ellendatlow: re: metro north derailment:jf...</td>\n",
       "      <td>3.0</td>\n",
       "      <td>3.0</td>\n",
       "    </tr>\n",
       "  </tbody>\n",
       "</table>\n",
       "<p>6984 rows × 3 columns</p>\n",
       "</div>"
      ],
      "text/plain": [
       "                                              tweet text  disaster type  \\\n",
       "17640  rt @examinedisaster: @nasa releases stunning b...            0.0   \n",
       "3005   dramatic details emerge of lax rampage targeti...            3.0   \n",
       "16996  rt @estebangerbasi: un terrorista italiano es ...            3.0   \n",
       "1687   photo: kirsty nelis, reported locally as polic...            3.0   \n",
       "20253  deadly building collapse in bangladesh  http:/...            3.0   \n",
       "...                                                  ...            ...   \n",
       "10676  colorado digs out after 'biblical' flooding: c...            4.0   \n",
       "1811   nasty katie hopkins apologises after making cr...            3.0   \n",
       "2006   rt @cloydrivers: bad day? 6 troops in afghanis...           99.0   \n",
       "19090  rt @fasnouvelles: vous avez des livres à donne...            3.0   \n",
       "26063  rt @ellendatlow: re: metro north derailment:jf...            3.0   \n",
       "\n",
       "       preds disaster type  \n",
       "17640                  0.0  \n",
       "3005                   3.0  \n",
       "16996                  3.0  \n",
       "1687                   3.0  \n",
       "20253                  3.0  \n",
       "...                    ...  \n",
       "10676                  4.0  \n",
       "1811                   3.0  \n",
       "2006                   3.0  \n",
       "19090                  3.0  \n",
       "26063                  3.0  \n",
       "\n",
       "[6984 rows x 3 columns]"
      ]
     },
     "execution_count": 26,
     "metadata": {},
     "output_type": "execute_result"
    }
   ],
   "source": [
    "df_test[['tweet text','disaster type','preds disaster type']]"
   ]
  },
  {
   "cell_type": "markdown",
   "metadata": {},
   "source": [
    "### Using our multiclass model to classify latest california tweets based on relevance and disaster type"
   ]
  },
  {
   "cell_type": "code",
   "execution_count": 27,
   "metadata": {},
   "outputs": [],
   "source": [
    "# Reading in the dataframe of tweets from california\n",
    "df_fire = pd.read_csv('./datasets/compiled/firetweets_clean.csv')\n",
    "df_fire = df_fire[['message']].rename({'message':'tweet'}, axis = 1)"
   ]
  },
  {
   "cell_type": "code",
   "execution_count": 28,
   "metadata": {},
   "outputs": [
    {
     "data": {
      "text/plain": [
       "(6260, 1)"
      ]
     },
     "execution_count": 28,
     "metadata": {},
     "output_type": "execute_result"
    }
   ],
   "source": [
    "df_fire.shape"
   ]
  },
  {
   "cell_type": "code",
   "execution_count": 29,
   "metadata": {},
   "outputs": [
    {
     "data": {
      "text/plain": [
       "(2792, 1)"
      ]
     },
     "execution_count": 29,
     "metadata": {},
     "output_type": "execute_result"
    }
   ],
   "source": [
    "# There are many repetitive tweets, so let us drop and keep one\n",
    "df_fire.drop_duplicates(subset='tweet',keep='first', inplace=True)\n",
    "df_fire.shape"
   ]
  },
  {
   "cell_type": "markdown",
   "metadata": {},
   "source": [
    "##### 55.40% of the tweets were duplicates and we dropped them"
   ]
  },
  {
   "cell_type": "code",
   "execution_count": 30,
   "metadata": {},
   "outputs": [],
   "source": [
    "# Changing all tweets to lowercase\n",
    "df_fire['tweet'] = df_fire['tweet'].apply(lambda x: x.lower())"
   ]
  },
  {
   "cell_type": "code",
   "execution_count": 31,
   "metadata": {},
   "outputs": [],
   "source": [
    "# Fitting the multiclass classifier model to the CA tweets\n",
    "df_fire['predicted_disaster_type'] = gs2.predict(df_fire['tweet'])"
   ]
  },
  {
   "cell_type": "code",
   "execution_count": 32,
   "metadata": {},
   "outputs": [
    {
     "data": {
      "text/plain": [
       "3.0     0.394699\n",
       "0.0     0.263610\n",
       "4.0     0.202364\n",
       "99.0    0.136819\n",
       "5.0     0.002149\n",
       "2.0     0.000358\n",
       "Name: predicted_disaster_type, dtype: float64"
      ]
     },
     "execution_count": 32,
     "metadata": {},
     "output_type": "execute_result"
    }
   ],
   "source": [
    "# Percentage of tweets based on category\n",
    "df_fire['predicted_disaster_type'].value_counts(normalize=True)"
   ]
  },
  {
   "cell_type": "markdown",
   "metadata": {},
   "source": [
    "##### There are no type 1 and type 2 disaster, which according to our dictionary is cyclones/hurricanes and earthquakes respectively"
   ]
  },
  {
   "cell_type": "code",
   "execution_count": 33,
   "metadata": {},
   "outputs": [
    {
     "name": "stdout",
     "output_type": "stream",
     "text": [
      "california #artist danielle nelisse paints #abstract landscape #paintings #daniellenelisse #wildfires thank yo https co szgft yw\n",
      "yikes https co gs vp hh #wildfires #africa\n",
      "business usual wildfires control california https co ydcybs xlz visitca #california https co lrf oye hr\n",
      "ready fall protecting home #wildfires season tell us tips https co g wvaewfsa\n",
      "gotts love john cena #wildfires #johncena #life https co vj fdmpyi\n",
      "getanalysis potus #trump accuses #california gross #mismanagementofforests #forestlands https co u j ype l\n",
      "trump threatens pull federal aid california #wildfires https co yyhckrghup https co ypykexcv\n",
      "#california gov #gavinnewsom national ambitions https co vpn qfr #californiawildfires #wildfires https co k kn qj dw\n",
      "ugh actually expect us believe #isis starting #california #wildfires actually gross https co ghayixlvng\n",
      "far wildfires california including #kinkaidfire #gettyfire https co whr ucykf\n",
      "experts participated firex aq summer large interagency study better understand chemistry w https co yuzedqcszt\n",
      "thomasfullernyt wild fire experts blame management #climatechange #california #wildfires everythin https co kmkvjbkgf\n",
      "third year row california burning opportunity ai improve proactive reacti https co wyybnzlcq\n",
      "good read understand going #wildfires california https co iehw ifcnp\n",
      "woods director chrfield talked kalw current #wildfires #california use prescribed https co ne kw\n",
      "lessons learned california #wildfires nytimes year fire season california https co cazuhzdyof\n",
      "#wildfires could erase trillion worth california housing value https co wtbfvtpzco https co u oxiph\n",
      "congress members slam donald trump threatens california blames governor newsom wildfires https co yafr tve w\n",
      "shame nationalforests using #california #wildfires currently burning grass brush u https co vopadasylb\n",
      "california kincade fire burn scar seen space https co hcqdbnv nc https co va xm fae #satellite https co z wx zz h\n",
      "california terrible #wildfires everyone complaining empty promises realdonaldtrump potus one https co ccx dvsgzx\n",
      "california suffered widespread cellphone outages #wildfires last week big #earthquake would much w https co uqfr wg\n",
      "declare clearly unequivocally #planet #earth facing #climateemergency scientists https co zcfnk hkv\n",
      "awesome love metallica https co nwqbbwhzf #wildfires #metallica #rollingstone #donation\n",
      "last week provided insurance industry takeaways california october #wildfires cover everything https co hgdvnqj j\n",
      "https co xhstbgbnbo cool way innovation technology playing role fight #wildfires w https co cqgkhozbi\n",
      "ongoing outbreak #wildfires #california make important ever talk reliable #energy https co doymlabn\n",
      "great #preptip share clients encourage take steps prepare home year round tips https co kzuktk\n",
      "read collaborative research efforts scientific american article major campaign aims unravel https co zt uskje\n",
      "california san joaquin valley country worst ozone particulate pollution agricultur https co mgmjlsqytr\n",
      "#ateam #california #wildfires covered #insurance https co roxufyovsk\n",
      "ricvil managalar #ateam #california #wildfires covered insurance https co mryww gdhs\n",
      "imagine california representative aid abet torching district #wildfires https co dkidmemx w\n",
      "pyne california #wildfires signal arrival planetary fire age https co dc oiq via conversationus\n",
      "effective data visualization temps fire season california #dataviz #wildfires #forests https co p shwewxow\n",
      "current #climatecrisis intensified frequency #wildfires across california proud support https co gkeshyuarm\n",
      "lessons learned california #wildfires https co aaequnxa f\n",
      "marketing one hell thing good ideas like #wildfires highly flammable inflammabl https co huk uytn\n",
      "#earth #music listen #georgesantayana #climateaction #wildfires\n",
      "#iaffecho iaffnewsdesk california members work around clock contain #wildfires https co yyltfv\n",
      "#california #wildfires signal arrival planetary fire age https co jyh dgi ij\n",
      "authorities lift #evacuations related #california #wildfires https co hcikazs uo peopl https co yj\n",
      "california #wildfires role climate crisis played #californiawildfires #mariafire #kincadefire https co vuexyjqds\n",
      "great short example blind spots #risk #communication california #wildfires https co bvbocjvnn\n",
      "#tuesdaythoughts #wildfires #trump threatens withold aid #california #californiafires offers aid #putin https co c oe fs\n",
      "time california ablaze time stepping back paris agreement https co effqkvujoh\n",
      "#iaffecho iaffnewsdesk california members work around clock contain #wildfires https co di ygkniib\n",
      "california members work around clock contain #wildfires https co vrztxv ihi\n",
      "one #california unique #fire prevention hydrants #wildfires https co ajnmubovzj\n",
      "fantastic read stop telling californians leave https co whic nldfo #wildfires #home #california\n",
      "governor threatens possible pg e takeover #wildfires #california #losangeles #santaclarita #santarosa #napavalley https co hzoqd npvt\n",
      "#guyfawkes today setting fireworks flares chinese lanterns illegal firewor https co fzrxrobas\n",
      "flames gear risks photographing #california #wildfires https co ky gfoek v\n",
      "california america fast forward pastor says https co pun web unfamiliarity california https co ou ptrmlmm\n",
      "drtels jasoncywong geolsoc britgeosurvey thanks v kind mercifully uk spared https co rpetjeimjm\n",
      "#california #wildfires burn #insurance companies pulling authorities still wondering https co vj hqc\n",
      "#wildfires impact permafrost pretty good understanding permafrost responds fire toda https co etpzcabdiq\n",
      "california home insurance policies renewed citing wildfire risk https co yrjzekqzrf https co nz clckwpy\n",
      "average temperature summer rainfall #california clear trends recent years #climate https co kbl ay qzh\n",
      "#california #wildfires past years including deadliest ever caused one company https co sjmt sfusj\n",
      "#california #wildfires definitely changing https co izczndupjh\n",
      "property homeowners insurance availability crisis looms #california better hang #wildfires https co h gtfrq xe\n",
      "california #artist danielle nelisse paints #abstract landscape #paintings #daniellenelisse #wildfires thank yo https co crduqgw mp\n",
      "love sic sonja crazy story #trialbyfire #wildfires #californiafires #journalist specnews socal https co rs jdshjp\n",
      "alexdatig #california needs # supertankers fight #wildfires #recallgavinnewsom https co gjm jdayzq\n",
      "travelleisure super cool #california #wildfires\n",
      "bride groom photographed smoke mask sonoma county california currently tha https co q vthr xlv\n",
      "trump threatens pull federal funding california #wildfires miss beat rushing https co dkqgmba aj\n",
      "#trump #worstpresidentinhistory bar none americans #california coping historically bad https co gjj yy\n",
      "joined #nielsandela nasagoddard whose job study fire trends across globe https co ro ez z\n",
      "gavinnewsom california democrats environmentalist guilty pg e #wildfires califor https co kalatfoab\n",
      "bad power went california #wildfires air quality monitors turned https co orp dboo\n",
      "nyt lessons learned #california #wildfires year fire season california affected https co ibibzlhq\n",
      "#trump threatens cut federal funding #california #wildfires https co wczivvms #climatechange #ethoslifestyle\n",
      "america love hate relationship california state living dystopian future lemenageruo uoregon https co yy rylvly\n",
      "thank first responders working hard #matthewmcconaughey helps prepare hot meals https co tvubygyrez\n",
      "arieljones damn fool liar period truth good honor #california #ca #wildfires speak\n",
      "four #california counties top list places risk losing housing value due destruction https co ag ewiuge\n",
      "california wildfires still burning november director strategic communications janet ruiz shares https co zu qwn qjc\n",
      "california #wildfires contained due powerful winds subsiding weekend https co hvncwhbxet\n",
      "california #wildfires contained due powerful winds subsiding weekend https co omkgiqaigt\n",
      "midst historic #wildfires #california despite concurring evidence anthropogenic #climatechange https co kmlqds okc\n",
      "uc berkeley professors discuss california #wildfires air quality air pollution arguably greatest e https co icm ykevcf\n",
      "clackamas county strike team california featuring four canby fire members way go team #canbyfire https co z h dq pri\n",
      "nytimes shares turning lights #california state faces enormous challenges prevent catas https co ydfzpd cqt\n",
      "#california worsening #wildfires explained https co jjptakaz\n",
      "forecasters california fire season could last december expect large blazes https co tmpbrjsqpb https co f fqeovyr\n",
      "although #wildfires burned less #california land far year fire season may started th https co qmpfmlbcth\n",
      "#california fire season could last december forecasters say #climatechange #wildfires https co ijcbx xzz\n",
      "trump stymies california climate efforts even state burns paywall #nytimes https co yvpxtr hmb #trump https co rm bjem\n",
      "state california taken serious steps #plan #mitigate year inevitable wave https co yqgfi qhta\n",
      "seanyoura discusses increasing threat natural disasters focus #wildfires california https co hojmwxsnsz\n",
      "foxnews hell u giving shifty adam schiff airtime disgrace america needs go back https co qonbntsldu\n",
      "#trump threatens pull federal aid #california #wildfires #smartnews dumbass compares ca othe https co ymqgjynwm\n",
      "matthew mcconaughey group volunteers cooked delivered meals firefighters california https co dpfrqql\n",
      "matthew mcconaughey group volunteers cooked delivered meals firefighters california https co jlq gaprku\n",
      "#trump lambastes #california #governornewsom continually reaching #washington aid combat https co rhov oxyma\n",
      "california wildfire hot enough happily wind blew cool us sadly spread fire even https co cyptpotuwp\n",
      "california #wildfires power cuts impacting businesses https co fkpyapqfz https co gffxv p x\n",
      "climate action happening country gov enough protect health property job f https co mjxq tfm\n",
      "rsfirenerd hi krista today ajstream discuss #wildfires burning worldwide including #california https co gl fig upl\n",
      "ways #climatecrisis fueling #wildfires california getting hotter hotter earlier spr https co jnribt blh\n",
      "#california #wildfires signal arrival #planetary #fire #age https co wwrh hmlnl\n",
      "researchers believe recent #wildfires #california could indicative arrival planetary fir https co unqmssg hu\n",
      "#california #evacuations lifted #wildfires become #contained pbs newshour #mariafire #sonoma https co qkycav w\n",
      "#firefighters #california gain momentum #winds slow battle protect communities also mi https co ayaq dduxy\n",
      "much america first #californiawildfires #putin #wildfires https co x tsmrq gt\n",
      "#wildfires threaten residents california states well especially dry months mak https co x fkea ujn\n",
      "nbcnews governor california gavinnewsom cagovernor done terrible job forest management pre https co imzzprdekz\n",
      "nbcnews good idea realdonaldtrump california cagovernor prevent #wildfires #wethepeople https co cxgp txwj\n",
      "needles human feces sidewalks plague emerging lunatic touting climate change https co fhhtg fids\n",
      "put away #drone let #firefighters work since start recent southern #california https co ctcamxkk w\n",
      "hold #prayer communities devastated #wildfires #california\n",
      "gavinnewsom trump supporter #california really done crappy job forest management st https co feccubqkry\n",
      "single reason increasing intensity #wildfires #california plenty #blame go around https co rw jnlwbx\n",
      "icymi california coping ongoing #wildfires #climate policy attacks trump administration https co v sbphsh\n",
      "guy believe forestry management looking someone else blame #wildfires https co fzrlaf wmt\n",
      "trump doesnt give fuck california man better saying doesnt give fuck #america #usa contrar https co kn qdtlkzf\n",
      "evacuations lifted southern california wildfire #californiafires #californiawildfire #californiafire https co igg pfrnvn\n",
      "#pge needs completely transformed culturally transformed operationally transformed california governor https co nmzkkmokk\n",
      "flames gear risks photographing california wildfires #californiafires #californiawildfire #californiafire https co wtnmxfyu\n",
      "#trump threatened cut federal funding #wildfires sweeping #california #twitter spat https co ciduim eks\n",
      "#trump threatened cut federal funding #wildfires sweeping #california #twitter spat https co oxo rx b\n",
      "#trump threatens pull federal aid #california #wildfires https co tv evxcihp\n",
      "ajstream #climatecrisis w rld still years doom day scientists end https co r ndag qgh\n",
      "california #artist danielle nelisse paints #abstract landscape #paintings #daniellenelisse #wildfires thank yo https co lobjfkzumb\n",
      "#trump demands #california gets program #californiawildfires #wildfires #forestmanagement https co hniqtkf ss\n",
      "#farmworkers face health risks california #wildfires besides fire main #health concern sm https co su k osesf\n",
      "trump threatens cut us funding california wildfires time congress stop funding #trump friends https co umlwdfl h\n",
      "home got hot contents incinerated ash however trees remain largely un https co h vd ppsbn\n",
      "#trump threatening stop funding #california #wildfires even though #national #forrest w https co eznjv eryk\n",
      "california talks taking control pg e #california #pge #wildfires #blackouts https co eysmnvzup\n",
      "saracarterdc repadamschiff meanwhile #wildfires burning #adamschiff district california https co tdwvbgkynr\n",
      "flames gear risks #photographing california #wildfires https co sy upqgqgi via missoulian\n",
      "directed energy weapons california earthquakes https co moskla v #vagavan #california https co yb c ylp\n",
      "michaelemann comes #climatechange #wildfire solid connection fire ignites th https co kuqgvmn r\n",
      "wondering #california many #wildfires pretty simple corporate greed pg e https co jv fay mjz\n",
      "#donaldtrump vows #federalaid #california devastating #wildfires continue burn https co uvt bewr n\n",
      "everyone seeing posts sorry #california burning realdonaldtrump asshole abo https co ev xnjsjkv\n",
      "realdonaldtrump gavinnewsom california forest million acres federal land cl https co rrijwykkf\n",
      "appreciate media outlets covering impact california #wildfires vulnerable communities https co lf wtymyyz\n",
      "#democrats paying attention want opening realdonaldtrump next #democraticdebate https co kkxwwoeddg\n",
      "potus trump threatens cut us funding #california #wildfires pbs newshour agree pr https co kysr r idz\n",
      "want learn #firis fire integrated real time intelligence system go https co iootj aevp\n",
      "mariachi el bronx wildfires #awesome #rockshow #rockmusic #rocknroll #mariachi #mariachielbronx #music https co dnnpm iojr\n",
      "hey realdonaldtrump pg e donor go #california #wildfires https co ykjmy xo\n",
      "realdonaldtrump gavinnewsom dear #drafdodger potus realdonaldtrump lying #california https co dikipzi r\n",
      "california fire insurance premiums pricing homeowners https co iuu ofipd year #wildfires\n",
      "say trump money fight #california #wildfires deadline https co celt rh\n",
      "air quality map link #socal #theoc elsewhere california remember ndhandsmoke vocs household laun https co nalsh uk\n",
      "antithesis federal #leadership us #california #wildfires yet californians threatening https co hypna cna\n",
      "looks like #fatnixon aka realdonaldtrump cut funding california #wildfires dumb ass scum b https co oljnzjtkb\n",
      "jptoner devinnunes gopleader trump #ignorance knows bounds #california #wildfires\n",
      "wondering #california many #wildfires pretty simple corporate greed pg e https co mb nabbfsm\n",
      "realdonaldtrump know nothing #california #wildfires anything else idiot quit pretending th https co v wbvnqwqo\n",
      "hey #california trump blaming #wildfires threatening withhold funds disproportion https co w rhp qqvm\n",
      "#trump threatens cut federal funding #california #wildfires #californiafires https co cywt n qux\n",
      "washingtonpost matter manages california forests fed state individuals causing https co gqldyjslmg\n",
      "asked petebuttigieg raging california #wildfires realdonaldtrump threatening withhold aid https co skvs aklvk\n",
      "climate crisis weekly california wildfires elon becomes treelon planing million trees https co tts lruem\n",
      "president takes fire management california governor california gavinnewsom done https co txpn\n",
      "#trump gives finger #california #wildfires blames democratic governor #gavinnewsom https co r ilfgyq\n",
      "time get read click update california #wineries stand ongoing https co ubogril\n",
      "electawing california #wildfires happens tree huggers get elected\n",
      "coletoon u wildfire threats https co g awpi #trumpmeltdown #trumpimpeachment #emolumentsclause https co rkqbagnzm\n",
      "sign #petition demand state #california take action pg e directly #care https co qkdvlnpp p\n",
      "ryanmaue anomalies almost norm eh #paradox highly localized #variance surely suggests factors ov https co wohsqpnnz\n",
      "authorities investigate electrical lines contributed #california #wildfires https co z pg jx\n",
      "linked piece shared yesterday #california #wildfires short npr interview noveli https co pbr ngk zd\n",
      "despair many silver linings #california #wildfires https co ltckh pdmu #techjunkienews https co ai uwktodw\n",
      "democrats across america realized overrated flop #kamalaharris #california recovers https co rbhhuqx w\n",
      "october california dangerous month #wildfires #kincadefire #gettyfire #californiawildfires https co c qmejsk\n",
      "#california governor says california could take investor owned pge #wildfires linked utility https co ygk zcuvax\n",
      "actually happened back around paying attention #worldonfire #wildfires https co wkvmtey di\n",
      "california #artist danielle nelisse paints #abstract landscape #paintings #daniellenelisse #wildfires thank yo https co duexkdtfhf\n",
      "long term trend #california toward bigger faster moving destructive #wildfires due overgrown fores https co rcdkip j b\n",
      "western states learn #nativeamerican #wildfires management strategies https co hs fbsrhqj\n",
      "devastating california #wildfires direct affect healthy especially children permanente ped https co pkm vhybo\n",
      "california #wildfires signal arrival planetary fire age https co hlorvdiwug #climatechange #climate https co x vw ebds\n",
      "#california #wildfires signal arrival planetary fire age https co rvkcuzoisc\n",
      "evacuations mount southern #california #wildfires spreads https co iuir n oyq\n",
      "going oppose california politicians ignoring #wildfires #homelesscrisis focus wounding trump https co f vfbwpfdt\n",
      "heartbreaking #wildfires california #reforestation important ever every photo https co tklqgqi p\n",
      "ways #climatecrisis fueling #wildfires california getting hotter hotter earlier spr https co lnbgxk e q\n",
      "#california #wildfires signal arrival planetary fire age https co vvxhd ezk\n",
      "#wildfires might erase trillion worth #housing #value california mansion global https co tuhunh wj\n",
      "talking #impeachment #wildfires #globalprotests course bring cool music well npratc\n",
      "silicon valley try solving real problems affect better ways prevent fight #wildfires https co fgfkptblyn\n",
      "cbcday side facing threats #wildfires california question https co ouexzzbw\n",
      "#california #wildfires #mariafire contained https co b bagho ff\n",
      "americanair #wildfires #mariafire two california residents able get flight home th https co zahtzm ggq\n",
      "ryanmaue acmeinde performing intense investigation cause #california #wildfires #rothchild https co mcy htss\n",
      "california inmates paid hour battle #wildfires set rates insurance company ceo https co wmi jpov\n",
      "billmckibben parts #california dangerous inhabit #wildfires #climatecrisis https co kmvas dm z\n",
      "wondering california institute idea mitigate #wildfires see calmatters https co mu kng hiu\n",
      "california starting look burnt normal view window ca flames destroying cali https co twdgipdgc\n",
      "#climatechange driving horror terror #california devastating #wildfires https co wrxadww j #climatecrisis\n",
      "last fire post let move #mariafire #santapaula # #venturacounty #california https co ghb tcnnb\n",
      "california could take public ownership pacific gas electric state largest utility blame https co caufjollee\n",
      "shannen doherty celebrates th birthday temporary housing legal battle insurance company state farm https co quonn k\n",
      "fire driverless car barrels road integrating whatever around #california #wildfires https co zkqtvneu\n",
      "#wildfires continue threaten communities across california ucla pulmonologist answers questions https co bn b nuz\n",
      "p g e southern california edison eventually #california turned one big ashtray rate https co wziqgvqw\n",
      "nikkihaley nixonlibrary ronaldreagan glad concern #california #book sales setting yo https co tojoxs co\n",
      "bow peasants lucky let house burn ground california https co jxhj wydra\n",
      "frustrations running high #california #wildfires pg e asking californians take anger https co ytp az fkb\n",
      "adopt pace nature secret patience ralph waldo emerson #wildfires snow storms https co uno cq u j via midlifequeen\n",
      "california homeowners insurance historical premiums losses aaron sutherland celyeste kristen wansbrough cra https co aqhg jbvbv\n",
      "thank senators ronwyden senjeffmerkley continuing protect oregon love #fundlwcf https co ddfxpk ph\n",
      "winds complicate fight last large wildfire southern california https co auqh uyr common thread https co flekxcsif\n",
      "#california fire kamalaharris iowademocrats privatized electricity company posing https co tjbi aacj\n",
      "add #pelosi #schiff mix abandoning #california constituents #wildfires https co smteqv jr\n",
      "realdonaldtrump #wildfires #californiafires #californiawildfires #californiafire #californiawildfire #california https co u kru dpgz\n",
      "#california #wildfires horse runs back get family https co jsmfcyostd\n",
      "pge pg e investigation regards largest #wildfires #california see https co eplczynmkm\n",
      "#crisiscomms tips protect reputation revenue read case study #california #wildfires https co xljlbouqy\n",
      "#sacramento california governor friday threatened possible takeover troubled utility #pge blamed f https co bfbeuwr sc\n",
      "crews battle last stubborn southern california wildfire #californiafires #californiapoweroutage #californiafire https co mnzf mupvk\n",
      "southern california wildfires grew acres ventura county read https co vzhqt lk q https co wub h yuvb\n",
      "interesting morning read believe neglected phenomenon planet https co mt ifkxm\n",
      "ca #insurance exodus #homeowner coverage #evaporating wake california #wildfires https co cauneyzdug via activistpost\n",
      "#homeownersinsurance become hard find expensive many parts #california labeled https co w q vho\n",
      "men #men horse guiding family fire simi valley california usa #familycomesfirst https co iserykhd j\n",
      "#california facing #refugeecrisis kind war watch words shake https co jvr vyixwx\n",
      "heartbreaking #wildfires #californiawildfires #californiafire #californiawildfire #california #california https co iwvimbqyyq\n",
      "#wildfires rage western usa tornados tear apart tri states east #climatecrisis severe storms trigge https co novced smp\n",
      "california #artist danielle nelisse paints #abstract landscape #paintings #daniellenelisse #wildfires thank yo https co b arvypkq\n",
      "#atlantic toxic bubble #infrastructure #technicaldebt threatening #america century https co po cljxupq\n",
      "sethanikeem know lived california #pg epoweroutages #windstorms #wildfires\n",
      "#impeachmentinquiry happy nyt #wildfires https co n vau r\n",
      "earth warmest september record tying mark set according copernicus climate c https co esr kika\n",
      "updates #wildfires burning northern southern #california https co boofzfxsvg cbsnews #mariafire https co tiqvrjzyfc\n",
      "#breakingnews #california #wildfires think california #journalists happy https co elzcdxu n\n",
      "watching desertification california eyes #ecology #globalwarming #bayareafires #wildfires\n",
      "#gratitude beyond #grateful privilege staying house without worry evacu https co x gw egvri\n",
      "believed #california problems #homeless #wildfires #illegal invasion #badeconomy etc etc wer https co dlqqdoteu\n",
      "california make #wildfires illegal stop https co etqztatd h\n",
      "charliekirk templestream #california speakerpelosi repadamschiff repmaxinewaters try working better https co opxjszdxe\n",
      "#crisiscomms tips protect reputation revenue read case study #california #wildfires https co iytjnjmjb\n",
      "dozen #wildfires burning california prepare homezada free #homeinventory app https co ip u pgzn\n",
      "miss getawair #gerawair #proudinvestor #airquality #wildfires https co rcqfi gkc\n",
      "bloomberg reported one #damage estimate already reached billion counting #wildfires #california https co yydpo vje\n",
      "#wildfires burn five times acreage california scientists previously attrib https co ahecov mfh\n",
      "#newyorkcitymarathon #wildfires best weekend reads https co spmpndy ux https co ga oxyiqcm https co rpcqlxmwdl\n",
      "proud part conversation solving challenges presented #wildfires california #microgrids ke https co xvkgrgayyn\n",
      "#mariafire #fire breaks #venturacounty #california van kmphfox #wildfires https co u ymqrtdqz\n",
      "#climatepolicy firestorm #california #wildfires greentechmedia jmpyper https co caz fryfxi\n",
      "#kincadefire took spark turned california biggest #wildfire sfchronicle https co pdqljjdiv\n",
      "ucsusa colleague julie mcnamara stellar job distilling california finds regard https co hvbb eqxz\n",
      "#stateofemergency declared #california due #wildfires dfatirl #traveladvice #usa https co h alq l\n",
      "california burning pictures #usa #california #wildfires #inpictures #photography #photos https co x k msqqva\n",
      "california pursues high tech fight #wildfires real time data could downsides calmatters reports https co jmdsou gmm\n",
      "might seem dramatic call pre apocalypse ramifications letting #california burn https co bhfpwz kd\n",
      "please get installed california stat #wildfires https co wbospabriu\n",
      "least #wildfires burning #california #mariafire # fire #hillsidefire #gettyfire #easyfire https co wdhxtyldc\n",
      "ceo evan greenberg chubb reshaped risk portfolio california avoid future exposure large scale https co umxvrr bb\n",
      "carbon emissions years #wildfires entire state california produces year ca https co ysjiadqkx\n",
      "#california makes headway #wildfires strong #winds ease https co eriiqk fn https co dy wmxm\n",
      "#wildfires power outages cause unprecedented #healthcare disruption #california https co ykngwirzfr\n",
      "california medical association organizing physician volunteers wildfire response calling physicians acro https co g gtejekky\n",
      "#wildfires continue rage california blackouts becoming common healthcare providers cop https co pyi oii rl\n",
      "#wildfires still active south #sumatra #indonesia image acquired today november copernicuseu https co solnkdltr\n",
      "#california gets called using inmate slave labor fight #wildfires https co ylrrf zbel\n",
      "climate change #climatecrisis made #california dangerous live many things calif https co r tsrrhvc\n",
      "sending positive sound waves impacted responding #wildfires california https co uevmat #hillside\n",
      "#wildfires ransack much #california high wind events coming fast furious however pattern https co qc vognd\n",
      "california #wildfires different year raw story https co iaxv phs\n",
      "halloween colleagues denver chicago dealing snowstorms california still tormented https co qn tialk\n",
      "wake call five california #deadliest #wildfires occurred last two years https co qxnuncqvbt\n",
      "#funfriday volunteer #california #wildfires sleeping friend sends pos https co kms gv ult\n",
      "world works mysterious ways #goats #wildfires #california #farmers #quickthinking https co jq bboa og\n",
      "#crisiscomms tips protect reputation revenue read case study #california #wildfires https co yeqvdn izn\n",
      "gopchairwoman realdonaldtrump #trump needs go #california discuss assist #wildfires https co clpuuv mdc\n",
      "#donaldtrump california could eliminate #wildfires would allow eliminate nature know https co hfu dg\n",
      "#wildfires caused bad environmental policy causing california forests net #co emitters https co wya fqchfm\n",
      "cademocrats dccc #california suffering devastating #wildfires trump even bothered tweet https co c qguniclq\n",
      "#wildfires raging around globe american indian tribes teach us better manage https co k rlpy dsl\n",
      "trump admin attack california cap trade system schumer b #ev proposal #wildfires https co elfeabwo\n",
      "weather causes fast moving #wildfires california #disasterpodcast wx becks wxkylenelson https co rdrrrvzgvu\n",
      "jjhembling nope california #wildfires firefighter\n",
      "herd #hungry #goats helped save ronald reagan presidential library #california #wildfires https co vw jbj amc\n",
      "https co nfittcw #wildfires #california #prompt mass #evacuations blackouts\n",
      "#communications #down parts #california radio tv internet cell towers fall victim pg e blackouts https co sqk wsm qx\n",
      "#california retrofit make #communities #resistant #wildfires extraordinarily ex https co hpzukeyxol\n",
      "#mariafire #ventura #santapaula #somis #camarillo #california #wildfires #happeningnow #breakingnews https co kzlwq cdy\n",
      "#mariafire #ventura #santapaula #somis #camarillo #california #wildfires #happeningnow #breakingnews https co yqlundsp g\n",
      "#mariafire #ventura #santapaula #somis #camarillo #california #wildfires #happeningnow #breakingnews info next f https co jnmlmwyefh\n",
      "#ventura #santapaula #somis #camarillo #california #wildfires #happeningnow #breakingnews #scanner large fire sprea https co ran f\n",
      "seniors california complex abandoned blackout #californiafires #californiapoweroutage #californiafire https co lepyvynw\n",
      "#wildfire zone check https co xl tohxhvz air quality wear p mask # particulates filtered ou https co q uhdvvxtq\n",
      "thanks real #mroctober firefighters kept us bbq guys gals rock https co vwtlqgmqdw\n",
      "california #artist danielle nelisse paints #abstract landscape #paintings #daniellenelisse #wildfires thank yo https co bizafuci\n",
      "need everybody go #california save allllll horses #wildfires cant stand see suf https co luaqli mxg\n",
      "#seniors california complex abandoned #blackout #wildfires https co r crr yhp\n",
      "good sight trick treating south mountain santa paula #mariafire #southmountain #santapaula https co fa depyh\n",
      "story #california seen entity whole state used foresight p https co kw pjpdklv\n",
      "insuring california #firestorms underwriting courage required #wildfires #california #riskmanagement https co hflwk wtb\n",
      "#rxopen turned #california use free pharmacy map https co txuetsreo locate open pharmaci https co vomnqx\n",
      "#california #wildfires #idaho sending firefighting assistance battle destructive blazes https co luiqxg af\n",
      "airstrike firefighters llc lockheed p orion spotted w sacramento #california #n au https co obhvr fi\n",
      "elevated fire danger continue friday southern california #wildfires https co r q woi https co aydc nf\n",
      "california nearing logical limits progressive adventurism policy politics https co jnjvgpwepr\n",
      "simi valley wine country extreme winds explosive #wildfires maintain hold #california https co uowuvbhikz latimes\n",
      "ground scenes california #wildfires terrifying looking high reveals https co sjte z gev\n",
      "road trip begins bart ride oakland la palm springs brought #awairomni check https co rgu zqhzr\n",
      "never rains southern california apparently albert hammond knew back climate cri https co leoaeirqkn\n",
      "https co iksdflzfs #wildfires continue spread across #california recently #gettyfire driven peop https co oqtyfdrfr\n",
      "#wildfires erupt ferocious #winds hit southern #california https co r f dox\n",
      "#wildfires burn california startups https co ydffmukfz https co bzbsysmo e\n",
      "churches shelter evacuees quick moving #wildfires ravage #california https co jh jaht\n",
      "#wildfires burning right california https co furt ils https co ltns\n",
      "hard capture vastness devastation cariboo #wildfires sd cc https co oojrjmo nl\n",
      "hearts #california today many brave first responders best keep everyone safe love https co x xepdviy\n",
      "#rescuers save #animals #wildfires continue #rage #california https co mwfp pqa\n",
      "gov newsom launches resource website californians impacted #wildfires power shutoffs https co mulbinqke #california\n",
      "icymi ftmoralmoney weekly newsletter came yesterday california #wildfires u k going underwat https co qwcf zox z\n",
      "u fire weather forecast #california #wildfires https co r jyxthyjm\n",
      "#nasatv aqua terra show #california #wildfires space https co eahx wbj\n",
      "california becoming unlivable https co szgtwepkep vicious cycle created lack affordable housin https co qjdutj yms\n",
      "#fromthecenter disabled california seniors complex left behind outage reporting ap #california https co x akner vs\n",
      "#wildfires burn around california must focus #climatechange sustainablesmc #indicatorsreport j https co jc mazzy\n",
      "california wildfires nursing home evacuates residents minutes spare https co paqimsidfd https co dtsvj sdh\n",
      "podcast california currently fire spoke pinnacle deconstruct risk impact indu https co yn zvf ht\n",
      "complexmusic wildfire pat lundy https co yqgzjxsm #halloween #salemwitchtrials nme rollingstone https co r dhg bbiu\n",
      "#prayersup eric braeden ronn moss forced evacuate amid #california #wildfires https co dqxmafc via soapoperafan\n",
      "painful see loss devastation caused #wildfires #california thank brave f https co h ywaeodo\n",
      "#crisiscomms tips protect reputation revenue read case study #california #wildfires https co bk c cg x\n",
      "firefighter looks #easyfire fire line simi valley ca #jasonryanphoto #wildfires #california https co rpg xjhc\n",
      "hungry goats hired california reagan library may cleared flammable surroundings preventative https co lk ospeubx\n",
      "california #wildfires one seen gov #figgnewsom lately #mia check bed https co ycoikys\n",
      "tweet wildest ideas might work #hillsidefire # fire #easyfire #hillfire #dexterfire #glenecofire https co mva th fvg\n",
      "improving indoor air quality #wildfires study california schools found replacing merv https co rho ryp ec\n",
      "extremely critical fire weather continue thursday southern #california #wildfires #socal https co dclmljjq z\n",
      "may realize #wildfires california little understand fire behavior travel https co xgyu rl dd\n",
      "pt realdonaldtrump sir currently #wildfires burning #california #suspiciouscriminalact #arson https co owvgtczwvv\n",
      "#california #wildfires fire hillside fire join critical blazes https co wqgkgjztlf\n",
      "little things go long way especially without power #california #wildfires #poweroutage https co djbiacfx\n",
      "#californiafire governor gavin newsom waived one week waiting period suspension #california unemplo https co dnfeunwfwh\n",
      "despicable pelosi schiff left ca fend get trump overrun rodents r https co nxntzzl qf\n",
      "president ceo richgordonsmc panelist capitol weekly california wildfires conference november https co tqyohr wp\n",
      "#wildfires victor davis hanson democrats turned california problem plagued burning nightmare https co pp xkjqbud\n",
      "need sensanders win obama houses yet #california controlled https co iaajwpgolq\n",
      "many ads cali vacations run uk like smh #california slammed #wildfires #earthquakes https co fvvp ptltx\n",
      "california #wildfires require protection poor air quality even far away see recent post https co pam sefrw\n",
      "relevant research presentation given current fire situation california michiganstateu msu socsci pro https co lrgzg ulej\n",
      "#airquality sgv poor today realtime map via #purpleair https co nbxakvymn #airquality https co q pvaors\n",
      "moral money california wildfires show immediacy climate crisis sustainability biggest business opport https co b gi pgtg\n",
      "case anyone wonders moved #westhollywood #california beautiful norfolk #connecticut https co rhhtdljjgz\n",
      "disabled seniors trapped dark northern california day #pgepowershutdown aimed w https co xuyelp z\n",
      "cumulative #california #wildfires since showing nature indiscriminate ways https co iaom keaj\n",
      "california gets called using inmate slave labor fight #wildfires https co zmoz swv p\n",
      "good currently collecting needs nonprofit partners impacted california https co jglnelrpwd\n",
      "good currently collecting needs nonprofit partners impacted california https co dxtxzueulq\n",
      "believe #california figured banned #wildfires would stop happening https co odludjstlw\n",
      "climate change #climatecrisis made #california dangerous live many things cali https co inoeogo ug\n",
      "related #muniland commentary watching #esg #california #wildfires #pgepowershutdown #pgepoweroutage https co dun memgcw\n",
      "#chicago teachers reach contract deal strike continues new #wildfires erupt southern california https co mjum cajb\n",
      "devine mismanagement stubbornness set #california ablaze #wildfires https co w dju ylpt via nypost\n",
      "#desert winds fuel twin #wildfires around #losangeles https co mjtyjofrok\n",
      "#california faces hrs hell devil winds turn current #wildfires unstoppable infernos https co xoby kya b\n",
      "#california #wildfires rage fueled forceful wind gusts https co wwsm sc bf\n",
      "california fire danger lingering winds #wildfires #california #losangeles #santaclarita #santarosa https co txhknh ce\n",
      "happy share insights october #wildfires across ca bms insight detail insu https co pvmem n\n",
      "#california suffering devastating #wildfires president even bothered tweet yet thes https co ia jwpru r\n",
      "overview wildfires currently burning california flyingeze https co fgcp mopke https co ethfa l vu\n",
      "harrowing intensity #gettyfire #losangeles #californiafires #californiawildfire #wildfires https co ldehubcrle\n",
      "firefighter looks another fire #easyfire simi valley ca #jasonryanphoto #wildfires #california https co glsnnozt\n",
      "recall gavinnewsom vote democrats destroying california worse #wildfires outrageous https co ezgx dplb\n",
      "powerful interactive map california wildfires giving details size length time ha https co z q tq cmu\n",
      "california flamin hot right #wildfires\n",
      "disabled seniors ca complex left behind outage #californiafires #californiapoweroutage #californiafire https co cighlffjmh\n",
      "enphase demand solar battery systems could soar california blackouts https co yhbg cu #wildfires https co upox mg p\n",
      "really fortunate today #cafires occur difficult reach mountainous locations th https co pw nytw\n",
      "report satan finally agrees move california accommodations made liking full https co bxfhkkeccb\n",
      "johncena #wwe thank proto generous donation #firstresponders #california #wildfires https co ibdvl n\n",
      "night peeps season win wishing #nats fans #sweetchampagnebubbledreams #howsweetitis #staysafe https co noeya\n",
      "#wildfires california #wednesdaythoughts blackirishii aflame truth jayme lolitadickinson kioman https co xew xuepa\n",
      "horrifying #wildfires #california #photojournalism https co e asbaazs\n",
      "blairking ca maxfawcett california #wildfires show us better centralized transmission system\n",
      "#crisiscomms tips protect reputation revenue read case study #california #wildfires https co jy cryjnyt\n",
      "touching #horses love families #wildfires https co jauu h rr\n",
      "california #wildfires near reagan presidential library wally skalij https co uhy mpq vq\n"
     ]
    }
   ],
   "source": [
    "# Printing out random tweets from differnet categories\n",
    "for tweet in df_fire[df_fire['predicted_disaster_type'] == 99]['tweet']:\n",
    "    print(tweet)"
   ]
  },
  {
   "cell_type": "markdown",
   "metadata": {},
   "source": [
    "### Unsupervised clustering to increase dimensions"
   ]
  },
  {
   "cell_type": "code",
   "execution_count": 34,
   "metadata": {},
   "outputs": [],
   "source": [
    "X_train, X_test, y_train, y_test = train_test_split(X, y_multi, random_state = 42, stratify = y_multi)"
   ]
  },
  {
   "cell_type": "code",
   "execution_count": 35,
   "metadata": {},
   "outputs": [],
   "source": [
    "# Instantiating a Kmeans cluster \n",
    "km = KMeans(n_clusters=5)"
   ]
  },
  {
   "cell_type": "code",
   "execution_count": 36,
   "metadata": {},
   "outputs": [],
   "source": [
    "# Vectorizing the training and testing tweets\n",
    "cvec= CountVectorizer(lowercase=True,stop_words='english',ngram_range = (1,2), max_features=4000)\n",
    "X_train_vec = cvec.fit_transform(X_train)\n",
    "X_test_vec = cvec.transform(X_test)"
   ]
  },
  {
   "cell_type": "code",
   "execution_count": 37,
   "metadata": {},
   "outputs": [],
   "source": [
    "# Standardizing the vectorized training data and trasnforming the testing data \n",
    "sc = StandardScaler()\n",
    "X_train_vec = sc.fit_transform(X_train_vec.toarray())\n",
    "X_test_vec = sc.transform(X_test_vec.toarray())"
   ]
  },
  {
   "cell_type": "code",
   "execution_count": 38,
   "metadata": {},
   "outputs": [],
   "source": [
    "# Turning things into dataframes\n",
    "df_Xvec_train = pd.DataFrame(X_train_vec)\n",
    "df_Xvec_test = pd.DataFrame(X_test_vec)"
   ]
  },
  {
   "cell_type": "code",
   "execution_count": 39,
   "metadata": {},
   "outputs": [
    {
     "data": {
      "text/plain": [
       "KMeans(algorithm='auto', copy_x=True, init='k-means++', max_iter=300,\n",
       "       n_clusters=5, n_init=10, n_jobs=None, precompute_distances='auto',\n",
       "       random_state=None, tol=0.0001, verbose=0)"
      ]
     },
     "execution_count": 39,
     "metadata": {},
     "output_type": "execute_result"
    }
   ],
   "source": [
    "# Fitting the clustering model on the training set\n",
    "km.fit(X_train_vec)"
   ]
  },
  {
   "cell_type": "code",
   "execution_count": 40,
   "metadata": {},
   "outputs": [],
   "source": [
    "# Adding the cluster labels to the dataframes\n",
    "df_Xvec_train['cluster'] = km.predict(X_train_vec)\n",
    "df_Xvec_test['cluster'] = km.predict(X_test_vec)"
   ]
  },
  {
   "cell_type": "code",
   "execution_count": 41,
   "metadata": {},
   "outputs": [
    {
     "data": {
      "text/plain": [
       "array([1, 3, 4, 0, 2])"
      ]
     },
     "execution_count": 41,
     "metadata": {},
     "output_type": "execute_result"
    }
   ],
   "source": [
    "df_Xvec_train['cluster'].unique()"
   ]
  },
  {
   "cell_type": "code",
   "execution_count": 42,
   "metadata": {},
   "outputs": [
    {
     "data": {
      "text/plain": [
       "array([1, 0, 4, 2, 3])"
      ]
     },
     "execution_count": 42,
     "metadata": {},
     "output_type": "execute_result"
    }
   ],
   "source": [
    "df_Xvec_test['cluster'].unique()"
   ]
  },
  {
   "cell_type": "code",
   "execution_count": 43,
   "metadata": {},
   "outputs": [],
   "source": [
    "# # Using One Hot Encoder to dummify such that number of categories remain same\n",
    "# # No need to do dummy if using OHE\n",
    "# ohe = OneHotEncoder(categories='auto')\n",
    "\n",
    "# ohe.fit(df_Xvec_train[['cluster']])\n",
    "\n",
    "# df_Xvec_train = df_Xvec_train.merge(pd.DataFrame(ohe.transform(df_Xvec_train[['cluster']]).toarray()), left_index=True, right_index=True).drop(columns=['cluster'])\n",
    "# df_Xvec_test = df_Xvec_test.merge(pd.DataFrame(ohe.transform(df_Xvec_test[['cluster']]).toarray()), left_index=True, right_index=True).drop(columns=['cluster'])"
   ]
  },
  {
   "cell_type": "code",
   "execution_count": 44,
   "metadata": {},
   "outputs": [],
   "source": [
    "# Dummy the training and testing cluster columns\n",
    "df_Xvec_train = pd.get_dummies(df_Xvec_train,columns=['cluster'], drop_first=True)\n",
    "df_Xvec_test = pd.get_dummies(df_Xvec_test,columns=['cluster'], drop_first=True)"
   ]
  },
  {
   "cell_type": "code",
   "execution_count": 45,
   "metadata": {},
   "outputs": [
    {
     "data": {
      "text/plain": [
       "OneVsRestClassifier(estimator=LogisticRegression(C=0.001, class_weight=None,\n",
       "                                                 dual=False, fit_intercept=True,\n",
       "                                                 intercept_scaling=1,\n",
       "                                                 l1_ratio=None, max_iter=100,\n",
       "                                                 multi_class='warn',\n",
       "                                                 n_jobs=None, penalty='l2',\n",
       "                                                 random_state=42,\n",
       "                                                 solver='liblinear', tol=0.0001,\n",
       "                                                 verbose=0, warm_start=False),\n",
       "                    n_jobs=None)"
      ]
     },
     "execution_count": 45,
     "metadata": {},
     "output_type": "execute_result"
    }
   ],
   "source": [
    "# Fititng a multi class logisitic regression model\n",
    "multi_model = OneVsRestClassifier(LogisticRegression(C=0.001 ,penalty = 'l2', solver='liblinear', random_state = 42))\n",
    "multi_model.fit(df_Xvec_train, y_train)"
   ]
  },
  {
   "cell_type": "code",
   "execution_count": 46,
   "metadata": {},
   "outputs": [
    {
     "data": {
      "text/plain": [
       "0.9501646856651869"
      ]
     },
     "execution_count": 46,
     "metadata": {},
     "output_type": "execute_result"
    }
   ],
   "source": [
    "# Training score\n",
    "multi_model.score(df_Xvec_train, y_train)"
   ]
  },
  {
   "cell_type": "code",
   "execution_count": 47,
   "metadata": {},
   "outputs": [
    {
     "data": {
      "text/plain": [
       "0.922823596792669"
      ]
     },
     "execution_count": 47,
     "metadata": {},
     "output_type": "execute_result"
    }
   ],
   "source": [
    "# Testing score\n",
    "multi_model.score(df_Xvec_test, y_test)"
   ]
  },
  {
   "cell_type": "code",
   "execution_count": null,
   "metadata": {},
   "outputs": [],
   "source": []
  },
  {
   "cell_type": "code",
   "execution_count": null,
   "metadata": {},
   "outputs": [],
   "source": []
  }
 ],
 "metadata": {
  "kernelspec": {
   "display_name": "Python 3",
   "language": "python",
   "name": "python3"
  },
  "language_info": {
   "codemirror_mode": {
    "name": "ipython",
    "version": 3
   },
   "file_extension": ".py",
   "mimetype": "text/x-python",
   "name": "python",
   "nbconvert_exporter": "python",
   "pygments_lexer": "ipython3",
   "version": "3.7.3"
  }
 },
 "nbformat": 4,
 "nbformat_minor": 2
}
