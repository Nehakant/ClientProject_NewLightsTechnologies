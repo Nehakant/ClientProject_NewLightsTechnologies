{
 "cells": [
  {
   "cell_type": "code",
   "execution_count": 138,
   "metadata": {},
   "outputs": [],
   "source": [
    "import pandas as pd\n",
    "import numpy as np\n",
    "import os"
   ]
  },
  {
   "cell_type": "code",
   "execution_count": 119,
   "metadata": {},
   "outputs": [],
   "source": [
    "# Attempt to figure out data cleaning with one file\n",
    "filepath = './datasets/CrisisLexT26/2012_Colorado_wildfires/2012_Colorado_wildfires-tweets_labeled.csv'\n",
    "df = pd.read_csv(filepath)\n",
    "df.columns = [item.lower().strip() for item in df.columns]\n",
    "mask_disaster_tweets = df['informativeness'].apply(lambda x: x in {'Related and informative','Related - but not informative'})\n",
    "df['disaster type'] = 99\n",
    "df.loc[mask_disaster_tweets, 'disaster type'] = 0\n",
    "df = df.loc[:,['tweet text','disaster type']]\n",
    "df.to_csv('./datasets/colorado_fires.csv', index=False)"
   ]
  },
  {
   "cell_type": "code",
   "execution_count": 139,
   "metadata": {},
   "outputs": [],
   "source": [
    "pathname = './datasets/CrisisLexT26'\n",
    "list_folders = [item for item in os.walk('./datasets/CrisisLexT26')]\n",
    "sub_pathname = [pathname + '/' + item + '/' for item in sub_folder_names]"
   ]
  },
  {
   "cell_type": "code",
   "execution_count": 133,
   "metadata": {},
   "outputs": [],
   "source": [
    "disaster_type_index = {'./datasets/CrisisLexT26/2012_Typhoon_Pablo/': 1,\n",
    " './datasets/CrisisLexT26/2013_Glasgow_helicopter_crash/': 3,\n",
    " './datasets/CrisisLexT26/2013_LA_airport_shootings/': 3,\n",
    " './datasets/CrisisLexT26/2013_Singapore_haze/': 5,\n",
    " './datasets/CrisisLexT26/2013_Russia_meteor/': 5,\n",
    " './datasets/CrisisLexT26/2013_Manila_floods/': 4,\n",
    " './datasets/CrisisLexT26/2013_Alberta_floods/': 4,\n",
    " './datasets/CrisisLexT26/2012_Costa_Rica_earthquake/': 2,\n",
    " './datasets/CrisisLexT26/2013_West_Texas_explosion/': 3,\n",
    " './datasets/CrisisLexT26/2013_Colorado_floods/': 4,\n",
    " './datasets/CrisisLexT26/2013_Typhoon_Yolanda/':1,\n",
    " './datasets/CrisisLexT26/2013_Boston_bombings/': 3,\n",
    " './datasets/CrisisLexT26/2013_Brazil_nightclub_fire/': 0,\n",
    " './datasets/CrisisLexT26/2013_Bohol_earthquake/': 2,\n",
    " './datasets/CrisisLexT26/2012_Italy_earthquakes/': 2,\n",
    " './datasets/CrisisLexT26/2012_Venezuela_refinery/': 3,\n",
    " './datasets/CrisisLexT26/2012_Colorado_wildfires/': 0,\n",
    " './datasets/CrisisLexT26/2013_Lac_Megantic_train_crash/': 3,\n",
    " './datasets/CrisisLexT26/2012_Philipinnes_floods/': 4,\n",
    " './datasets/CrisisLexT26/2013_Savar_building_collapse/': 3,\n",
    " './datasets/CrisisLexT26/2013_Australia_bushfire/': 0,\n",
    " './datasets/CrisisLexT26/2012_Guatemala_earthquake/': 2,\n",
    " './datasets/CrisisLexT26/2013_Spain_train_crash/': 3,\n",
    " './datasets/CrisisLexT26/2013_Sardinia_floods/': 4,\n",
    " './datasets/CrisisLexT26/2013_NY_train_crash/': 3,\n",
    " './datasets/CrisisLexT26/2013_Queensland_floods/': 4\n",
    "}"
   ]
  },
  {
   "cell_type": "code",
   "execution_count": 143,
   "metadata": {},
   "outputs": [],
   "source": [
    "def call_form_dataframes(path_to_folder, name_of_csv, path_to_csv):\n",
    "    print(path_to_csv)\n",
    "    df = pd.read_csv(path_to_csv)\n",
    "    df.columns = [item.lower().strip() for item in df.columns]\n",
    "    print(df.columns)\n",
    "    mask_disaster_tweets = df['informativeness'].apply(lambda x: x in {'Related and informative','Related - but not informative'})\n",
    "    df['disaster type'] = 99\n",
    "    df.loc[mask_disaster_tweets, 'disaster type'] = disaster_type_index[path_to_folder]\n",
    "    df = df.loc[:,['tweet text','disaster type']]\n",
    "    df.to_csv('./datasets/cleaned/'+name_of_csv, index=False)\n",
    "#     print(f\"labeled dataframe created for {path_to_folder.split('/')[-1]}\")\n",
    "    print('')\n",
    "    return"
   ]
  },
  {
   "cell_type": "code",
   "execution_count": 144,
   "metadata": {},
   "outputs": [
    {
     "name": "stdout",
     "output_type": "stream",
     "text": [
      "./datasets/CrisisLexT26/2012_Typhoon_Pablo/2012_Typhoon_Pablo-tweets_labeled.csv\n",
      "Index(['tweet id', 'tweet text', 'information source', 'information type',\n",
      "       'informativeness'],\n",
      "      dtype='object')\n",
      "\n",
      "./datasets/CrisisLexT26/2013_Glasgow_helicopter_crash/2013_Glasgow_helicopter_crash-tweets_labeled.csv\n",
      "Index(['tweet id', 'tweet text', 'information source', 'information type',\n",
      "       'informativeness'],\n",
      "      dtype='object')\n",
      "\n",
      "./datasets/CrisisLexT26/2013_LA_airport_shootings/2013_LA_airport_shootings-tweets_labeled.csv\n",
      "Index(['tweet id', 'tweet text', 'information source', 'information type',\n",
      "       'informativeness'],\n",
      "      dtype='object')\n",
      "\n",
      "./datasets/CrisisLexT26/2013_Singapore_haze/2013_Singapore_haze-tweets_labeled.csv\n",
      "Index(['tweet id', 'tweet text', 'information source', 'information type',\n",
      "       'informativeness'],\n",
      "      dtype='object')\n",
      "\n",
      "./datasets/CrisisLexT26/2013_Russia_meteor/2013_Russia_meteor-tweets_labeled.csv\n",
      "Index(['tweet id', 'tweet text', 'information source', 'information type',\n",
      "       'informativeness'],\n",
      "      dtype='object')\n",
      "\n",
      "./datasets/CrisisLexT26/2013_Manila_floods/2013_Manila_floods-tweets_labeled.csv\n",
      "Index(['tweet id', 'tweet text', 'information source', 'information type',\n",
      "       'informativeness'],\n",
      "      dtype='object')\n",
      "\n",
      "./datasets/CrisisLexT26/2013_Alberta_floods/2013_Alberta_floods-tweets_labeled.csv\n",
      "Index(['tweet id', 'tweet text', 'information source', 'information type',\n",
      "       'informativeness'],\n",
      "      dtype='object')\n",
      "\n",
      "./datasets/CrisisLexT26/2012_Costa_Rica_earthquake/2012_Costa_Rica_earthquake-tweets_labeled.csv\n",
      "Index(['tweet id', 'tweet text', 'information source', 'information type',\n",
      "       'informativeness'],\n",
      "      dtype='object')\n",
      "\n",
      "./datasets/CrisisLexT26/2013_West_Texas_explosion/2013_West_Texas_explosion-tweets_labeled.csv\n",
      "Index(['tweet id', 'tweet text', 'information source', 'information type',\n",
      "       'informativeness'],\n",
      "      dtype='object')\n",
      "\n",
      "./datasets/CrisisLexT26/2013_Colorado_floods/2013_Colorado_floods-tweets_labeled.csv\n",
      "Index(['tweet id', 'tweet text', 'information source', 'information type',\n",
      "       'informativeness'],\n",
      "      dtype='object')\n",
      "\n",
      "./datasets/CrisisLexT26/2013_Typhoon_Yolanda/2013_Typhoon_Yolanda-tweets_labeled.csv\n",
      "Index(['tweet id', 'tweet text', 'information source', 'information type',\n",
      "       'informativeness'],\n",
      "      dtype='object')\n",
      "\n",
      "./datasets/CrisisLexT26/2013_Boston_bombings/2013_Boston_bombings-tweets_labeled.csv\n",
      "Index(['tweet id', 'tweet text', 'information source', 'information type',\n",
      "       'informativeness'],\n",
      "      dtype='object')\n",
      "\n",
      "./datasets/CrisisLexT26/2013_Brazil_nightclub_fire/2013_Brazil_nightclub_fire-tweets_labeled.csv\n",
      "Index(['tweet id', 'tweet text', 'information source', 'information type',\n",
      "       'informativeness'],\n",
      "      dtype='object')\n",
      "\n",
      "./datasets/CrisisLexT26/2013_Bohol_earthquake/2013_Bohol_earthquake-tweets_labeled.csv\n",
      "Index(['tweet id', 'tweet text', 'information source', 'information type',\n",
      "       'informativeness'],\n",
      "      dtype='object')\n",
      "\n",
      "./datasets/CrisisLexT26/2012_Italy_earthquakes/2012_Italy_earthquakes-tweets_labeled.csv\n",
      "Index(['tweet id', 'tweet text', 'information source', 'information type',\n",
      "       'informativeness'],\n",
      "      dtype='object')\n",
      "\n",
      "./datasets/CrisisLexT26/2012_Venezuela_refinery/2012_Venezuela_refinery-tweets_labeled.csv\n",
      "Index(['tweet id', 'tweet text', 'information source', 'information type',\n",
      "       'informativeness'],\n",
      "      dtype='object')\n",
      "\n",
      "./datasets/CrisisLexT26/2012_Colorado_wildfires/2012_Colorado_wildfires-tweets_labeled.csv\n",
      "Index(['tweet id', 'tweet text', 'information source', 'information type',\n",
      "       'informativeness'],\n",
      "      dtype='object')\n",
      "\n",
      "./datasets/CrisisLexT26/2013_Lac_Megantic_train_crash/2013_Lac_Megantic_train_crash-tweets_labeled.csv\n",
      "Index(['tweet id', 'tweet text', 'information source', 'information type',\n",
      "       'informativeness'],\n",
      "      dtype='object')\n",
      "\n",
      "./datasets/CrisisLexT26/2012_Philipinnes_floods/2012_Philipinnes_floods-tweets_labeled.csv\n",
      "Index(['tweet id', 'tweet text', 'information source', 'information type',\n",
      "       'informativeness'],\n",
      "      dtype='object')\n",
      "\n",
      "./datasets/CrisisLexT26/2013_Savar_building_collapse/2013_Savar_building_collapse-tweets_labeled.csv\n",
      "Index(['tweet id', 'tweet text', 'information source', 'information type',\n",
      "       'informativeness'],\n",
      "      dtype='object')\n",
      "\n",
      "./datasets/CrisisLexT26/2013_Australia_bushfire/2013_Australia_bushfire-tweets_labeled.csv\n",
      "Index(['tweet id', 'tweet text', 'information source', 'information type',\n",
      "       'informativeness'],\n",
      "      dtype='object')\n",
      "\n",
      "./datasets/CrisisLexT26/2012_Guatemala_earthquake/2012_Guatemala_earthquake-tweets_labeled.csv\n",
      "Index(['tweet id', 'tweet text', 'information source', 'information type',\n",
      "       'informativeness'],\n",
      "      dtype='object')\n",
      "\n",
      "./datasets/CrisisLexT26/2013_Spain_train_crash/2013_Spain_train_crash-tweets_labeled.csv\n",
      "Index(['tweet id', 'tweet text', 'information source', 'information type',\n",
      "       'informativeness'],\n",
      "      dtype='object')\n",
      "\n",
      "./datasets/CrisisLexT26/2013_Sardinia_floods/2013_Sardinia_floods-tweets_labeled.csv\n",
      "Index(['tweet id', 'tweet text', 'information source', 'information type',\n",
      "       'informativeness'],\n",
      "      dtype='object')\n",
      "\n",
      "./datasets/CrisisLexT26/2013_NY_train_crash/2013_NY_train_crash-tweets_labeled.csv\n",
      "Index(['tweet id', 'tweet text', 'information source', 'information type',\n",
      "       'informativeness'],\n",
      "      dtype='object')\n",
      "\n",
      "./datasets/CrisisLexT26/2013_Queensland_floods/2013_Queensland_floods-tweets_labeled.csv\n",
      "Index(['tweet id', 'tweet text', 'information source', 'information type',\n",
      "       'informativeness'],\n",
      "      dtype='object')\n",
      "\n"
     ]
    }
   ],
   "source": [
    "path_to_file = ''\n",
    "files_written = []\n",
    "for item in sub_pathname:\n",
    "    for names in os.walk(item):\n",
    "        for name in names[2]:\n",
    "            if 'labeled.csv' in name:\n",
    "                path_to_file = item + name\n",
    "                files_written.append(name)\n",
    "                call_form_dataframes(item, name, path_to_file)"
   ]
  },
  {
   "cell_type": "code",
   "execution_count": 145,
   "metadata": {},
   "outputs": [],
   "source": [
    "cleaned_data_folder = './datasets/cleaned/'"
   ]
  },
  {
   "cell_type": "code",
   "execution_count": 146,
   "metadata": {},
   "outputs": [
    {
     "data": {
      "text/plain": [
       "['2012_Typhoon_Pablo-tweets_labeled.csv',\n",
       " '2013_Glasgow_helicopter_crash-tweets_labeled.csv',\n",
       " '2013_LA_airport_shootings-tweets_labeled.csv',\n",
       " '2013_Singapore_haze-tweets_labeled.csv',\n",
       " '2013_Russia_meteor-tweets_labeled.csv',\n",
       " '2013_Manila_floods-tweets_labeled.csv',\n",
       " '2013_Alberta_floods-tweets_labeled.csv',\n",
       " '2012_Costa_Rica_earthquake-tweets_labeled.csv',\n",
       " '2013_West_Texas_explosion-tweets_labeled.csv',\n",
       " '2013_Colorado_floods-tweets_labeled.csv',\n",
       " '2013_Typhoon_Yolanda-tweets_labeled.csv',\n",
       " '2013_Boston_bombings-tweets_labeled.csv',\n",
       " '2013_Brazil_nightclub_fire-tweets_labeled.csv',\n",
       " '2013_Bohol_earthquake-tweets_labeled.csv',\n",
       " '2012_Italy_earthquakes-tweets_labeled.csv',\n",
       " '2012_Venezuela_refinery-tweets_labeled.csv',\n",
       " '2012_Colorado_wildfires-tweets_labeled.csv',\n",
       " '2013_Lac_Megantic_train_crash-tweets_labeled.csv',\n",
       " '2012_Philipinnes_floods-tweets_labeled.csv',\n",
       " '2013_Savar_building_collapse-tweets_labeled.csv',\n",
       " '2013_Australia_bushfire-tweets_labeled.csv',\n",
       " '2012_Guatemala_earthquake-tweets_labeled.csv',\n",
       " '2013_Spain_train_crash-tweets_labeled.csv',\n",
       " '2013_Sardinia_floods-tweets_labeled.csv',\n",
       " '2013_NY_train_crash-tweets_labeled.csv',\n",
       " '2013_Queensland_floods-tweets_labeled.csv']"
      ]
     },
     "execution_count": 146,
     "metadata": {},
     "output_type": "execute_result"
    }
   ],
   "source": [
    "files_written"
   ]
  },
  {
   "cell_type": "code",
   "execution_count": 155,
   "metadata": {},
   "outputs": [],
   "source": [
    "df_list = [pd.read_csv('./datasets/cleaned/'+file) for file in files_written]\n",
    "df = pd.concat(df, axis = 0).reset_index(drop=True)\n",
    "df.to_csv('./datasets/compiled/all_disaster_tweets.csv', index=False)"
   ]
  },
  {
   "cell_type": "code",
   "execution_count": 156,
   "metadata": {},
   "outputs": [
    {
     "data": {
      "text/plain": [
       "(27943, 2)"
      ]
     },
     "execution_count": 156,
     "metadata": {},
     "output_type": "execute_result"
    }
   ],
   "source": [
    "df.shape"
   ]
  },
  {
   "cell_type": "code",
   "execution_count": null,
   "metadata": {},
   "outputs": [],
   "source": []
  }
 ],
 "metadata": {
  "kernelspec": {
   "display_name": "Python 3",
   "language": "python",
   "name": "python3"
  },
  "language_info": {
   "codemirror_mode": {
    "name": "ipython",
    "version": 3
   },
   "file_extension": ".py",
   "mimetype": "text/x-python",
   "name": "python",
   "nbconvert_exporter": "python",
   "pygments_lexer": "ipython3",
   "version": "3.7.3"
  }
 },
 "nbformat": 4,
 "nbformat_minor": 2
}
