{
 "cells": [
  {
   "cell_type": "code",
   "execution_count": 2,
   "metadata": {},
   "outputs": [],
   "source": [
    "import pandas as pd"
   ]
  },
  {
   "cell_type": "code",
   "execution_count": 4,
   "metadata": {},
   "outputs": [],
   "source": [
    "df = pd.read_csv('DisasterDeclarationsSummaries.csv')"
   ]
  },
  {
   "cell_type": "code",
   "execution_count": 10,
   "metadata": {},
   "outputs": [],
   "source": [
    "features = list(df.columns)"
   ]
  },
  {
   "cell_type": "code",
   "execution_count": 11,
   "metadata": {},
   "outputs": [
    {
     "data": {
      "text/plain": [
       "['disasterNumber',\n",
       " 'ihProgramDeclared',\n",
       " 'iaProgramDeclared',\n",
       " 'paProgramDeclared',\n",
       " 'hmProgramDeclared',\n",
       " 'state',\n",
       " 'declarationDate',\n",
       " 'fyDeclared',\n",
       " 'disasterType',\n",
       " 'incidentType',\n",
       " 'title',\n",
       " 'incidentBeginDate',\n",
       " 'incidentEndDate',\n",
       " 'disasterCloseOutDate',\n",
       " 'declaredCountyArea',\n",
       " 'placeCode',\n",
       " 'hash',\n",
       " 'lastRefresh']"
      ]
     },
     "execution_count": 11,
     "metadata": {},
     "output_type": "execute_result"
    }
   ],
   "source": [
    "features"
   ]
  }
 ],
 "metadata": {
  "kernelspec": {
   "display_name": "Python 3",
   "language": "python",
   "name": "python3"
  },
  "language_info": {
   "codemirror_mode": {
    "name": "ipython",
    "version": 3
   },
   "file_extension": ".py",
   "mimetype": "text/x-python",
   "name": "python",
   "nbconvert_exporter": "python",
   "pygments_lexer": "ipython3",
   "version": "3.7.3"
  }
 },
 "nbformat": 4,
 "nbformat_minor": 2
}
